{
 "cells": [
  {
   "cell_type": "code",
   "execution_count": 71,
   "metadata": {},
   "outputs": [],
   "source": [
    "import pandas as pd\n",
    "import plotly.express as px\n",
    "from jupyter_dash import JupyterDash\n",
    "import dash_core_components as dcc\n",
    "import dash_html_components as html\n",
    "from dash.exceptions import PreventUpdate\n",
    "from dash.dependencies import Input, Output, State\n",
    "import base64"
   ]
  },
  {
   "cell_type": "code",
   "execution_count": 36,
   "metadata": {},
   "outputs": [
    {
     "data": {
      "text/html": [
       "<style>.container { width:90% !important; }</style>"
      ],
      "text/plain": [
       "<IPython.core.display.HTML object>"
      ]
     },
     "metadata": {},
     "output_type": "display_data"
    }
   ],
   "source": [
    "from IPython.display import display, HTML\n",
    "display(HTML(\"<style>.container { width:90% !important; }</style>\"))"
   ]
  },
  {
   "cell_type": "code",
   "execution_count": 79,
   "metadata": {},
   "outputs": [],
   "source": [
    "notification_image = base64.b64encode(open(\"capture.png\", 'rb').read())\n",
    "ericsson_image = base64.b64encode(open(\"ericssonlogo.png\", 'rb').read())"
   ]
  },
  {
   "cell_type": "code",
   "execution_count": 220,
   "metadata": {},
   "outputs": [],
   "source": [
    "df = px.data.iris()  # iris is a pandas DataFrame\n",
    "fig = px.scatter(df, x=\"sepal_width\", y=\"sepal_length\")"
   ]
  },
  {
   "cell_type": "code",
   "execution_count": 290,
   "metadata": {
    "scrolled": false
   },
   "outputs": [
    {
     "data": {
      "text/html": [
       "\n",
       "        <iframe\n",
       "            width=\"100%\"\n",
       "            height=\"650\"\n",
       "            src=\"http://127.0.0.1:8050/\"\n",
       "            frameborder=\"0\"\n",
       "            allowfullscreen\n",
       "        ></iframe>\n",
       "        "
      ],
      "text/plain": [
       "<IPython.lib.display.IFrame at 0x17fb4b7c7f0>"
      ]
     },
     "metadata": {},
     "output_type": "display_data"
    }
   ],
   "source": [
    "\n",
    "app = JupyterDash(__name__)\n",
    "app.layout = html.Div([\n",
    "    html.Div([\n",
    "        html.Div([\n",
    "            html.Div([\n",
    "                html.Img(src='data:image/png;base64,{}'.format(ericsson_image.decode()), style={'height':'50px','margin-left':'-15px'}), \n",
    "                html.H1(\"ERICSSON DASHBOARD\",style={'margin-left':'-5px','font-family': 'Montserrat, sans-serif', 'color':'#002561', 'font-weight':'900', 'font-size':'24px'})]\n",
    "            ,className=\"HeaderLeft\",style={'display':'flex','align-items':'center'}),\n",
    "            html.Div([html.Img(src='data:image/png;base64,{}'.format(notification_image.decode()))]\n",
    "            ,className=\"HeaderRight\",style={'display':'flex','align-items':'center'})\n",
    "            \n",
    "        ],className=\"HeaderWrapper\",style={'height':'100%','padding':'0px 20px', 'display':'flex', 'align-items':'center','justify-content':'space-between'})]\n",
    "    ,className=\"Header\",style={'width':'100%', 'height':'65px', 'background-color':'white', 'position':'fixed','border-bottom':'1px solid #002561'}),\n",
    "\n",
    "    html.Div([\n",
    "        html.Div([\n",
    "            dcc.Upload(id='upload-data',\n",
    "                children=html.Button([\"UPLOAD FILE\"], style={'font-weight':'600','letter-spacing':'0.6rem','font':'16px','background-color':'transparent','cursor':'pointer','padding':'0 20px', 'height':'32px'}),\n",
    "                style={'display':'flex','justify-content':'center','flex-direction':'column', 'margin':'8px', 'margin-top':'25px'},\n",
    "            # Allow multiple files to be uploaded\n",
    "                multiple=False\n",
    "            ),\n",
    "            html.Div(id='output-data-upload'), \n",
    "        ],className=\"SideBarLeft\", style={'display':'flex', 'flex-direction':'column','flex':'1', 'background-color': 'rgb(251, 251, 255)','height':'calc(100vh - 66px)','width':'100%'}),\n",
    "       \n",
    "        html.Div([\n",
    "            html.Div([\n",
    "                html.Div([\n",
    "                    html.H1(\"Data Entries: 0\", style={'flex':'2','margin':'25px', 'border-radius':'5px','-webkit-box-shadow': '0px 0px 15px -10px rgba(0, 0, 0, 0.75)','box-shadow':'0px 0px 15px -10px rgbe(0, 0, 0, 0.75)', 'padding': '15px', 'font-weight':'750', 'font-size':'20px', 'font-family': 'Montserrat, sans-serif', 'color':'#002561'}),\n",
    "                    html.H1(\"Anomalies found: 0\", style={'flex':'2','margin':'25px', 'border-radius':'5px','-webkit-box-shadow': '0px 0px 15px -10px rgba(0, 0, 0, 0.75)','box-shadow':'0px 0px 15px -10px rgbe(0, 0, 0, 0.75)', 'padding': '15px', 'font-weight':'750', 'font-size':'20px', 'font-family': 'Montserrat, sans-serif', 'color':'#002561'}),\n",
    "                    html.H1(\"Anomaly Rate: 0%\", style={'flex':'2','margin':'25px', 'border-radius':'5px','-webkit-box-shadow': '0px 0px 15px -10px rgba(0, 0, 0, 0.75)','box-shadow':'0px 0px 15px -10px rgbe(0, 0, 0, 0.75)', 'padding': '15px', 'font-weight':'750', 'font-size':'20px', 'font-family': 'Montserrat, sans-serif', 'color':'#002561'})\n",
    "                ], className=\"DataWrapper\", style={'display':'flex'}),\n",
    "                 \n",
    "                html.Div([\n",
    "                    dcc.Graph(figure=fig, style={'height':'100%'})\n",
    "                ], style={'flex':'6','margin-right':'25px','margin-left':'25px','margin-bottom':'25px', 'border-radius':'5px','-webkit-box-shadow': '0px 0px 15px -10px rgba(0, 0, 0, 0.75)','box-shadow':'0px 0px 15px -10px rgbe(0, 0, 0, 0.75)'})\n",
    "            ],className=\"GraphWrapper\", style={'display':'flex','flex-direction':'column','justify-content':'space-between'})\n",
    " \n",
    "        ],className=\"HomeRight\", style={'flex':'4', 'background-color':'white','height':'calc(100vh - 66px)'})\n",
    "            \n",
    "    ],className=\"HomeWrapper\", style={'display':'flex', 'flex-direction':'row','width':'100%','margin-top':'66px','position':'fixed'})\n",
    "    \n",
    "], style={'display':'flex', 'width':'100vw', 'margin':'0 auto'})\n",
    "\n",
    "\n",
    "def parse_contents(contents, filename, date):\n",
    "    content_type, content_string = contents.split(',')\n",
    "\n",
    "    decoded = base64.b64decode(content_string)\n",
    "    try:\n",
    "        if 'csv' in filename:\n",
    "            # Assume that the user uploaded a CSV file\n",
    "            df = pd.read_csv(\n",
    "                io.StringIO(decoded.decode('utf-8')))\n",
    "        elif 'xls' in filename:\n",
    "            # Assume that the user uploaded an excel file\n",
    "            df = pd.read_excel(io.BytesIO(decoded))\n",
    "    except Exception as e:\n",
    "        print(e)\n",
    "        return html.Div([\n",
    "            'There was an error processing this file.'\n",
    "        ])\n",
    "\n",
    "    return html.Div([\n",
    "        html.H5(filename),\n",
    "        html.H6(datetime.datetime.fromtimestamp(date)),\n",
    "\n",
    "        dash_table.DataTable(\n",
    "            df.to_dict('records'),\n",
    "            [{'name': i, 'id': i} for i in df.columns]\n",
    "        ),\n",
    "\n",
    "        html.Hr(),  # horizontal line\n",
    "\n",
    "        # For debugging, display the raw contents provided by the web browser\n",
    "        html.Div('Raw Content'),\n",
    "        html.Pre(contents[0:200] + '...', style={\n",
    "            'whiteSpace': 'pre-wrap',\n",
    "            'wordBreak': 'break-all'\n",
    "        })\n",
    "    ])\n",
    "\n",
    "@app.callback(Output('output-data-upload', 'children'),\n",
    "              Input('upload-data', 'contents'),\n",
    "              State('upload-data', 'filename'),\n",
    "              State('upload-data', 'last_modified'))\n",
    "def update_output(list_of_contents, list_of_names, list_of_dates):\n",
    "    if list_of_contents is not None:\n",
    "        children = [\n",
    "            parse_contents(c, n, d) for c, n, d in\n",
    "            zip(list_of_contents, list_of_names, list_of_dates)]\n",
    "        return children\n",
    "# Run app and display result inline in the notebook\n",
    "app.run_server(mode='inline')\n"
   ]
  },
  {
   "cell_type": "code",
   "execution_count": 289,
   "metadata": {},
   "outputs": [
    {
     "name": "stdout",
     "output_type": "stream",
     "text": [
      "Dash app running on http://127.0.0.1:8050/\n"
     ]
    }
   ],
   "source": [
    "app.run_server(mode='external')"
   ]
  },
  {
   "cell_type": "code",
   "execution_count": null,
   "metadata": {},
   "outputs": [],
   "source": []
  }
 ],
 "metadata": {
  "kernelspec": {
   "display_name": "Python 3",
   "language": "python",
   "name": "python3"
  },
  "language_info": {
   "codemirror_mode": {
    "name": "ipython",
    "version": 3
   },
   "file_extension": ".py",
   "mimetype": "text/x-python",
   "name": "python",
   "nbconvert_exporter": "python",
   "pygments_lexer": "ipython3",
   "version": "3.8.3"
  }
 },
 "nbformat": 4,
 "nbformat_minor": 4
}
